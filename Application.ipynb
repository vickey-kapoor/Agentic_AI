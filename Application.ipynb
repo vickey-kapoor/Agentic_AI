{
 "cells": [
  {
   "cell_type": "code",
   "execution_count": 2,
   "id": "9a5d2b3c",
   "metadata": {},
   "outputs": [],
   "source": [
    "import os, csv, time, re, json, math\n",
    "from typing import List, Dict, Any, Tuple\n",
    "import requests\n",
    "from bs4 import BeautifulSoup"
   ]
  },
  {
   "cell_type": "code",
   "execution_count": 4,
   "id": "ac3904ce",
   "metadata": {},
   "outputs": [],
   "source": [
    "# CONFIG\n",
    "OPENAI_API_KEY = os.getenv(\"OPENAI API KEY\")\n",
    "\n",
    "MODEL_TIERS = [\n",
    "    (\"gpt-4.1-mini\", 0),\n",
    "    (\"gpt-4.1\", 1),\n",
    "    (\"gpt-5\", 2),\n",
    "]\n",
    "\n",
    "MAX_UPGRADES_PER_RUN = 2\n",
    "TOP_N = 5\n",
    "MAX_PAGES = 6\n",
    "HEADERS = {\"User-Agent\": \"savings-agent/1.1 (+educational)\"}\n",
    "\n",
    "# Optional soft budget in USD for the \"whole run\" \n",
    "SOFT_BUDGET = 0.50"
   ]
  },
  {
   "cell_type": "code",
   "execution_count": 5,
   "id": "07475bf6",
   "metadata": {},
   "outputs": [],
   "source": [
    "SOURCE_URLS = [\n",
    "    \"https://www.nerdwallet.com/best/banking/high-yield-online-savings-accounts\",\n",
    "    \"https://www.bankrate.com/banking/savings/high-yield-savings-accounts/\",\n",
    "    \"https://www.forbes.com/advisor/banking/savings/best-high-yield-savings-accounts/\",\n",
    "    \"https://www.investopedia.com/best-high-yield-savings-accounts-5217102\",\n",
    "]"
   ]
  },
  {
   "cell_type": "code",
   "execution_count": null,
   "id": "62f3f9a8",
   "metadata": {},
   "outputs": [],
   "source": [
    "PRICING = {\n",
    "    \"gpt-4.1-mini\": {\"in\": 0.15, \"out\":0.60},\n",
    "    \"gpt-4.1\": {\"in\": 5.00, \"out\":15.00},\n",
    "    \"gpt-5\": {\"in\": 6.00, \"out\":18.00},\n",
    "}"
   ]
  }
 ],
 "metadata": {
  "kernelspec": {
   "display_name": "Python 3",
   "language": "python",
   "name": "python3"
  },
  "language_info": {
   "codemirror_mode": {
    "name": "ipython",
    "version": 3
   },
   "file_extension": ".py",
   "mimetype": "text/x-python",
   "name": "python",
   "nbconvert_exporter": "python",
   "pygments_lexer": "ipython3",
   "version": "3.12.10"
  }
 },
 "nbformat": 4,
 "nbformat_minor": 5
}
